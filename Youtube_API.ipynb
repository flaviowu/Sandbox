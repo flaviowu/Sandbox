{
  "nbformat": 4,
  "nbformat_minor": 0,
  "metadata": {
    "colab": {
      "name": "Youtube-API.ipynb",
      "provenance": [],
      "authorship_tag": "ABX9TyMOdpb6FlCR/SVEEF46/QHK",
      "include_colab_link": true
    },
    "kernelspec": {
      "name": "python3",
      "display_name": "Python 3"
    },
    "language_info": {
      "name": "python"
    }
  },
  "cells": [
    {
      "cell_type": "markdown",
      "metadata": {
        "id": "view-in-github",
        "colab_type": "text"
      },
      "source": [
        "<a href=\"https://colab.research.google.com/github/flaviowu/Sandbox/blob/main/Youtube_API.ipynb\" target=\"_parent\"><img src=\"https://colab.research.google.com/assets/colab-badge.svg\" alt=\"Open In Colab\"/></a>"
      ]
    },
    {
      "cell_type": "code",
      "metadata": {
        "id": "XhKxEFtqeICU"
      },
      "source": [
        "from IPython.display import YouTubeVideo"
      ],
      "execution_count": 9,
      "outputs": []
    },
    {
      "cell_type": "code",
      "metadata": {
        "colab": {
          "base_uri": "https://localhost:8080/"
        },
        "id": "YxKzB5rphUVc",
        "outputId": "8bc4be37-c097-438c-f118-0a1e4a57dd1f"
      },
      "source": [
        "!pip install --upgrade google-api-python-client"
      ],
      "execution_count": 10,
      "outputs": [
        {
          "output_type": "stream",
          "text": [
            "Requirement already satisfied: google-api-python-client in /usr/local/lib/python3.7/dist-packages (2.15.0)\n",
            "Requirement already satisfied: uritemplate<4dev,>=3.0.0 in /usr/local/lib/python3.7/dist-packages (from google-api-python-client) (3.0.1)\n",
            "Requirement already satisfied: google-auth-httplib2>=0.1.0 in /usr/local/lib/python3.7/dist-packages (from google-api-python-client) (0.1.0)\n",
            "Requirement already satisfied: google-auth<3.0.0dev,>=1.16.0 in /usr/local/lib/python3.7/dist-packages (from google-api-python-client) (1.32.1)\n",
            "Requirement already satisfied: httplib2<1dev,>=0.15.0 in /usr/local/lib/python3.7/dist-packages (from google-api-python-client) (0.17.4)\n",
            "Requirement already satisfied: google-api-core<3.0.0dev,>=1.21.0 in /usr/local/lib/python3.7/dist-packages (from google-api-python-client) (1.26.3)\n",
            "Requirement already satisfied: six>=1.13.0 in /usr/local/lib/python3.7/dist-packages (from google-api-core<3.0.0dev,>=1.21.0->google-api-python-client) (1.15.0)\n",
            "Requirement already satisfied: googleapis-common-protos<2.0dev,>=1.6.0 in /usr/local/lib/python3.7/dist-packages (from google-api-core<3.0.0dev,>=1.21.0->google-api-python-client) (1.53.0)\n",
            "Requirement already satisfied: packaging>=14.3 in /usr/local/lib/python3.7/dist-packages (from google-api-core<3.0.0dev,>=1.21.0->google-api-python-client) (21.0)\n",
            "Requirement already satisfied: setuptools>=40.3.0 in /usr/local/lib/python3.7/dist-packages (from google-api-core<3.0.0dev,>=1.21.0->google-api-python-client) (57.2.0)\n",
            "Requirement already satisfied: requests<3.0.0dev,>=2.18.0 in /usr/local/lib/python3.7/dist-packages (from google-api-core<3.0.0dev,>=1.21.0->google-api-python-client) (2.23.0)\n",
            "Requirement already satisfied: pytz in /usr/local/lib/python3.7/dist-packages (from google-api-core<3.0.0dev,>=1.21.0->google-api-python-client) (2018.9)\n",
            "Requirement already satisfied: protobuf>=3.12.0 in /usr/local/lib/python3.7/dist-packages (from google-api-core<3.0.0dev,>=1.21.0->google-api-python-client) (3.17.3)\n",
            "Requirement already satisfied: cachetools<5.0,>=2.0.0 in /usr/local/lib/python3.7/dist-packages (from google-auth<3.0.0dev,>=1.16.0->google-api-python-client) (4.2.2)\n",
            "Requirement already satisfied: rsa<5,>=3.1.4 in /usr/local/lib/python3.7/dist-packages (from google-auth<3.0.0dev,>=1.16.0->google-api-python-client) (4.7.2)\n",
            "Requirement already satisfied: pyasn1-modules>=0.2.1 in /usr/local/lib/python3.7/dist-packages (from google-auth<3.0.0dev,>=1.16.0->google-api-python-client) (0.2.8)\n",
            "Requirement already satisfied: pyparsing>=2.0.2 in /usr/local/lib/python3.7/dist-packages (from packaging>=14.3->google-api-core<3.0.0dev,>=1.21.0->google-api-python-client) (2.4.7)\n",
            "Requirement already satisfied: pyasn1<0.5.0,>=0.4.6 in /usr/local/lib/python3.7/dist-packages (from pyasn1-modules>=0.2.1->google-auth<3.0.0dev,>=1.16.0->google-api-python-client) (0.4.8)\n",
            "Requirement already satisfied: urllib3!=1.25.0,!=1.25.1,<1.26,>=1.21.1 in /usr/local/lib/python3.7/dist-packages (from requests<3.0.0dev,>=2.18.0->google-api-core<3.0.0dev,>=1.21.0->google-api-python-client) (1.24.3)\n",
            "Requirement already satisfied: certifi>=2017.4.17 in /usr/local/lib/python3.7/dist-packages (from requests<3.0.0dev,>=2.18.0->google-api-core<3.0.0dev,>=1.21.0->google-api-python-client) (2021.5.30)\n",
            "Requirement already satisfied: idna<3,>=2.5 in /usr/local/lib/python3.7/dist-packages (from requests<3.0.0dev,>=2.18.0->google-api-core<3.0.0dev,>=1.21.0->google-api-python-client) (2.10)\n",
            "Requirement already satisfied: chardet<4,>=3.0.2 in /usr/local/lib/python3.7/dist-packages (from requests<3.0.0dev,>=2.18.0->google-api-core<3.0.0dev,>=1.21.0->google-api-python-client) (3.0.4)\n"
          ],
          "name": "stdout"
        }
      ]
    },
    {
      "cell_type": "code",
      "metadata": {
        "id": "Go0B-3zjhfFk"
      },
      "source": [
        "from googleapiclient.discovery import build"
      ],
      "execution_count": 16,
      "outputs": []
    },
    {
      "cell_type": "code",
      "metadata": {
        "id": "Ycmsi7CoUjBw"
      },
      "source": [
        "youTubeApiKey = ''"
      ],
      "execution_count": 17,
      "outputs": []
    },
    {
      "cell_type": "code",
      "metadata": {
        "id": "HjSkrPYHhrJd"
      },
      "source": [
        "youtube= build('youtube', 'v3', developerKey=youTubeApiKey)"
      ],
      "execution_count": 18,
      "outputs": []
    },
    {
      "cell_type": "markdown",
      "metadata": {
        "id": "NAou_cjviJyZ"
      },
      "source": [
        "Extraindo videos de uma playlist"
      ]
    },
    {
      "cell_type": "code",
      "metadata": {
        "id": "k0PKWutOiCaA"
      },
      "source": [
        "playlistId = 'PLR8JXremim5DINkBLBDDhjVah5kWKFWxk'\n",
        "playlistName = 'Timer Pomodoro'\n",
        "nextPage_token = None"
      ],
      "execution_count": 30,
      "outputs": []
    },
    {
      "cell_type": "code",
      "metadata": {
        "id": "PeFfiVrEiZ0o"
      },
      "source": [
        "playlist_videos = []\n",
        "while True:\n",
        "    res = youtube.playlistItems().list(part='snippet', playlistId = playlistId, maxResults=50, pageToken=nextPage_token).execute()\n",
        "    playlist_videos += res['items']\n",
        "    nextPage_token = res.get('nestPageToken')\n",
        "    if nextPage_token is None:\n",
        "        break"
      ],
      "execution_count": 36,
      "outputs": []
    },
    {
      "cell_type": "code",
      "metadata": {
        "colab": {
          "base_uri": "https://localhost:8080/"
        },
        "id": "7Vj3fKOCjwZt",
        "outputId": "386c86bb-03c0-44eb-88c6-2c52d836ea01"
      },
      "source": [
        "playlist_videos"
      ],
      "execution_count": 37,
      "outputs": [
        {
          "output_type": "execute_result",
          "data": {
            "text/plain": [
              "[{'etag': 'qnrs7jc1J7tSs2IUDzF3c3HuPJY',\n",
              "  'id': 'UExSOEpYcmVtaW01RElOa0JMQkREaGpWYWg1a1dLRld4ay41NkI0NEY2RDEwNTU3Q0M2',\n",
              "  'kind': 'youtube#playlistItem',\n",
              "  'snippet': {'channelId': 'UCnATHGHftSGHbhn6uF8dEUA',\n",
              "   'channelTitle': 'Thi Code',\n",
              "   'description': 'Essa é a primeira parte do nosso projeto, prestem bastante atenção nos detalhes do projeto e me perguntem nos comentários, caso vocês tenham alguma dúvida!\\n\\nLinks importantes:\\n\\nVisual studio code: https://code.visualstudio.com/download\\nDocumentação do Bootstrap: https://getbootstrap.com.br/\\nGitHub do projeto: https://github.com/limathiagos/pomodoro-timer\\nInstagram: https://www.instagram.com/thi.code/\\nLinkedIn: https://www.linkedin.com/in/thicode/\\nFontwasome (site de icons): https://fontawesome.com/v4.7.0/icons/\\nBaixar o Git: https://git-scm.com/downloads',\n",
              "   'playlistId': 'PLR8JXremim5DINkBLBDDhjVah5kWKFWxk',\n",
              "   'position': 0,\n",
              "   'publishedAt': '2021-02-22T17:46:28Z',\n",
              "   'resourceId': {'kind': 'youtube#video', 'videoId': '_Z7fyBsZGy8'},\n",
              "   'thumbnails': {'default': {'height': 90,\n",
              "     'url': 'https://i.ytimg.com/vi/_Z7fyBsZGy8/default.jpg',\n",
              "     'width': 120},\n",
              "    'high': {'height': 360,\n",
              "     'url': 'https://i.ytimg.com/vi/_Z7fyBsZGy8/hqdefault.jpg',\n",
              "     'width': 480},\n",
              "    'maxres': {'height': 720,\n",
              "     'url': 'https://i.ytimg.com/vi/_Z7fyBsZGy8/maxresdefault.jpg',\n",
              "     'width': 1280},\n",
              "    'medium': {'height': 180,\n",
              "     'url': 'https://i.ytimg.com/vi/_Z7fyBsZGy8/mqdefault.jpg',\n",
              "     'width': 320},\n",
              "    'standard': {'height': 480,\n",
              "     'url': 'https://i.ytimg.com/vi/_Z7fyBsZGy8/sddefault.jpg',\n",
              "     'width': 640}},\n",
              "   'title': 'Projeto | Timer Pomodoro - Parte I',\n",
              "   'videoOwnerChannelId': 'UCnATHGHftSGHbhn6uF8dEUA',\n",
              "   'videoOwnerChannelTitle': 'Thi Code'}},\n",
              " {'etag': 'kqCuRq7FzeJ435VUPNODHof-6xU',\n",
              "  'id': 'UExSOEpYcmVtaW01RElOa0JMQkREaGpWYWg1a1dLRld4ay4yODlGNEE0NkRGMEEzMEQy',\n",
              "  'kind': 'youtube#playlistItem',\n",
              "  'snippet': {'channelId': 'UCnATHGHftSGHbhn6uF8dEUA',\n",
              "   'channelTitle': 'Thi Code',\n",
              "   'description': 'Essa é a segunda parte do nosso projeto, prestem bastante atenção nos detalhes do projeto e me perguntem nos comentários, caso vocês tenham alguma dúvida!\\n\\nLinks importantes:\\n\\nVisual studio code: https://code.visualstudio.com/download\\nDocumentação do Bootstrap: https://getbootstrap.com.br/\\nGitHub do projeto: https://github.com/limathiagos/pomodoro-timer\\nInstagram: https://www.instagram.com/thi.code/\\nLinkedIn: https://www.linkedin.com/in/thicode/\\nFontwasome (site de icons): https://fontawesome.com/v4.7.0/icons/\\nBaixar o Git: https://git-scm.com/downloads',\n",
              "   'playlistId': 'PLR8JXremim5DINkBLBDDhjVah5kWKFWxk',\n",
              "   'position': 1,\n",
              "   'publishedAt': '2021-02-22T17:48:18Z',\n",
              "   'resourceId': {'kind': 'youtube#video', 'videoId': 'AxbtbBn7nvI'},\n",
              "   'thumbnails': {'default': {'height': 90,\n",
              "     'url': 'https://i.ytimg.com/vi/AxbtbBn7nvI/default.jpg',\n",
              "     'width': 120},\n",
              "    'high': {'height': 360,\n",
              "     'url': 'https://i.ytimg.com/vi/AxbtbBn7nvI/hqdefault.jpg',\n",
              "     'width': 480},\n",
              "    'maxres': {'height': 720,\n",
              "     'url': 'https://i.ytimg.com/vi/AxbtbBn7nvI/maxresdefault.jpg',\n",
              "     'width': 1280},\n",
              "    'medium': {'height': 180,\n",
              "     'url': 'https://i.ytimg.com/vi/AxbtbBn7nvI/mqdefault.jpg',\n",
              "     'width': 320},\n",
              "    'standard': {'height': 480,\n",
              "     'url': 'https://i.ytimg.com/vi/AxbtbBn7nvI/sddefault.jpg',\n",
              "     'width': 640}},\n",
              "   'title': 'Projeto | Timer Pomodoro - Parte II',\n",
              "   'videoOwnerChannelId': 'UCnATHGHftSGHbhn6uF8dEUA',\n",
              "   'videoOwnerChannelTitle': 'Thi Code'}},\n",
              " {'etag': 'FEe6551TM9h_YYwe-ozFjSj_Z14',\n",
              "  'id': 'UExSOEpYcmVtaW01RElOa0JMQkREaGpWYWg1a1dLRld4ay4wMTcyMDhGQUE4NTIzM0Y5',\n",
              "  'kind': 'youtube#playlistItem',\n",
              "  'snippet': {'channelId': 'UCnATHGHftSGHbhn6uF8dEUA',\n",
              "   'channelTitle': 'Thi Code',\n",
              "   'description': 'Essa é a terceira parte do nosso projeto, prestem bastante atenção nos detalhes do projeto e me perguntem nos comentários, caso vocês tenham alguma dúvida!\\n\\nLinks importantes:\\n\\nVisual studio code: https://code.visualstudio.com/download\\nDocumentação do Bootstrap: https://getbootstrap.com.br/\\nGitHub do projeto: https://github.com/limathiagos/pomodoro-timer\\nInstagram: https://www.instagram.com/thi.code/\\nLinkedIn: https://www.linkedin.com/in/thicode/\\nFontwasome (site de icons): https://fontawesome.com/v4.7.0/icons/\\nBaixar o Git: https://git-scm.com/downloads',\n",
              "   'playlistId': 'PLR8JXremim5DINkBLBDDhjVah5kWKFWxk',\n",
              "   'position': 2,\n",
              "   'publishedAt': '2021-02-22T17:49:36Z',\n",
              "   'resourceId': {'kind': 'youtube#video', 'videoId': 'MZdS4X6xc4I'},\n",
              "   'thumbnails': {'default': {'height': 90,\n",
              "     'url': 'https://i.ytimg.com/vi/MZdS4X6xc4I/default.jpg',\n",
              "     'width': 120},\n",
              "    'high': {'height': 360,\n",
              "     'url': 'https://i.ytimg.com/vi/MZdS4X6xc4I/hqdefault.jpg',\n",
              "     'width': 480},\n",
              "    'maxres': {'height': 720,\n",
              "     'url': 'https://i.ytimg.com/vi/MZdS4X6xc4I/maxresdefault.jpg',\n",
              "     'width': 1280},\n",
              "    'medium': {'height': 180,\n",
              "     'url': 'https://i.ytimg.com/vi/MZdS4X6xc4I/mqdefault.jpg',\n",
              "     'width': 320},\n",
              "    'standard': {'height': 480,\n",
              "     'url': 'https://i.ytimg.com/vi/MZdS4X6xc4I/sddefault.jpg',\n",
              "     'width': 640}},\n",
              "   'title': 'Projeto | Timer Pomodoro - Parte III',\n",
              "   'videoOwnerChannelId': 'UCnATHGHftSGHbhn6uF8dEUA',\n",
              "   'videoOwnerChannelTitle': 'Thi Code'}},\n",
              " {'etag': '-TiWEMnKR-9vJZKW7J2V7Pg7K5Q',\n",
              "  'id': 'UExSOEpYcmVtaW01RElOa0JMQkREaGpWYWg1a1dLRld4ay41MjE1MkI0OTQ2QzJGNzNG',\n",
              "  'kind': 'youtube#playlistItem',\n",
              "  'snippet': {'channelId': 'UCnATHGHftSGHbhn6uF8dEUA',\n",
              "   'channelTitle': 'Thi Code',\n",
              "   'description': 'Essa é a última parte do nosso projeto, prestem bastante atenção nos detalhes do projeto e me perguntem nos comentários, caso vocês tenham alguma dúvida!\\n\\nLinks importantes:\\n\\nVisual studio code: https://code.visualstudio.com/download\\nDocumentação do Bootstrap: https://getbootstrap.com.br/\\nGitHub do projeto: https://github.com/limathiagos/pomodoro-timer\\nInstagram: https://www.instagram.com/thi.code/\\nLinkedIn: https://www.linkedin.com/in/thicode/\\nFontwasome (site de icons): https://fontawesome.com/v4.7.0/icons/\\nBaixar o Git: https://git-scm.com/downloads',\n",
              "   'playlistId': 'PLR8JXremim5DINkBLBDDhjVah5kWKFWxk',\n",
              "   'position': 3,\n",
              "   'publishedAt': '2021-02-22T17:50:55Z',\n",
              "   'resourceId': {'kind': 'youtube#video', 'videoId': 'xXpx61hgK2w'},\n",
              "   'thumbnails': {'default': {'height': 90,\n",
              "     'url': 'https://i.ytimg.com/vi/xXpx61hgK2w/default.jpg',\n",
              "     'width': 120},\n",
              "    'high': {'height': 360,\n",
              "     'url': 'https://i.ytimg.com/vi/xXpx61hgK2w/hqdefault.jpg',\n",
              "     'width': 480},\n",
              "    'maxres': {'height': 720,\n",
              "     'url': 'https://i.ytimg.com/vi/xXpx61hgK2w/maxresdefault.jpg',\n",
              "     'width': 1280},\n",
              "    'medium': {'height': 180,\n",
              "     'url': 'https://i.ytimg.com/vi/xXpx61hgK2w/mqdefault.jpg',\n",
              "     'width': 320},\n",
              "    'standard': {'height': 480,\n",
              "     'url': 'https://i.ytimg.com/vi/xXpx61hgK2w/sddefault.jpg',\n",
              "     'width': 640}},\n",
              "   'title': 'Projeto | Timer Pomodoro - Parte IV (Deploy do projeto)',\n",
              "   'videoOwnerChannelId': 'UCnATHGHftSGHbhn6uF8dEUA',\n",
              "   'videoOwnerChannelTitle': 'Thi Code'}}]"
            ]
          },
          "metadata": {
            "tags": []
          },
          "execution_count": 37
        }
      ]
    }
  ]
}